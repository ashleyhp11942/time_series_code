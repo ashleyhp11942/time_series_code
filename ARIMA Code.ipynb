{
 "cells": [
  {
   "cell_type": "markdown",
   "metadata": {},
   "source": [
    "# Initial Time Series Modeling Code. \n",
    "This script contains the first steps for univariate time series modeling. The decomposition of the series and the ACF/PACF plots are created to understand the seres. Auto ARIMA to choose the parameters is run with the option to add in exogenous variables. \n"
   ]
  },
  {
   "cell_type": "code",
   "execution_count": null,
   "metadata": {},
   "outputs": [],
   "source": [
    "import pandas as pd #for data analysis/manipulation\n",
    "import numpy as np\n",
    "#from azureml import Workspace # connect to the Azure environment \n",
    "import pyodbc # connect to the database\n",
    "import matplotlib.pyplot as plt # plotting package \n",
    "import time\n",
    "import pytz\n",
    "from pandas.tseries.holiday import USFederalHolidayCalendar as calendar\n",
    "from statsmodels.tsa.seasonal import seasonal_decompose\n",
    "from sklearn.metrics import mean_squared_error, mean_absolute_error \n",
    "from statsmodels.tsa.arima_model import ARIMA\n",
    "from statsmodels.tsa.stattools import acf, pacf\n",
    "from statsmodels.tsa.stattools import adfuller\n",
    "from statsmodels.tsa.api import arma_order_select_ic\n",
    "from statsmodels.graphics.tsaplots import plot_acf, plot_pacf\n",
    "import datetime\n",
    "from datetime import timedelta"
   ]
  },
  {
   "cell_type": "markdown",
   "metadata": {},
   "source": [
    "# Functions "
   ]
  },
  {
   "cell_type": "code",
   "execution_count": null,
   "metadata": {},
   "outputs": [],
   "source": [
    "def time_fmt(time_entry, original_tz = 'US/Pacific', new_tz = 'US/Eastern'):\n",
    "    '''Convert the timezone for a timestamp object'''\n",
    "    input_time = time_entry.replace(tzinfo=pytz.timezone(original_tz))\n",
    "    conv_time = input_time.astimezone(pytz.timezone(new_tz))\n",
    "    return conv_time\n",
    "\n",
    "def mape_calc(actual, predicted):\n",
    "    '''Caluclate Mean Absoulte Percent Error'''\n",
    "    act, pred = np.array(actual), np.array(predicted)\n",
    "    mape = np.mean(np.abs((act - pred)/act)*100)\n",
    "    return mape\n",
    "\n",
    "def accuracy_metrics(actual, predicted, pct_error = False):\n",
    "    '''Calculate MSE, RMSE, MAE and MAPE if requested. '''\n",
    "    metrics = []\n",
    "    mse = mean_squared_error(actual, predicted)\n",
    "    rmse = np.sqrt(mse)\n",
    "    mae = mean_absolute_error(actual, predicted)\n",
    "    mape = mape_calc(actual, predicted)\n",
    "    \n",
    "    metrics.append(mse)\n",
    "    metrics.append(rmse)\n",
    "    metrics.append(mae)\n",
    "    metrics.append(mape)\n",
    "\n",
    "    print('Accuracy Metrics')\n",
    "    print('MSE: {}'.format(mse))\n",
    "    print('RMSE: {}'.format(rmse))\n",
    "    print('MAE: {}'.format(mae))\n",
    "    print('MAPE: {}'.format(mape))\n",
    "    \n",
    "    return metrics\n",
    "\n",
    "def inverse_difference(data, yhat, interval = 1):\n",
    "    return yhat + data[-interval]\n",
    "\n",
    "def predictions_plot(test, predictions, col, days= 14,):\n",
    "    ''' Create the plot of actuals vs predictions. \n",
    "            test is a dataframe iwth Date column. \n",
    "            predictions is a list of the predicted values '''\n",
    "    test_sub = test.head(days)\n",
    "    test_sub['Predictions'] = predictions\n",
    "    test_sub = test_sub.reset_index()\n",
    "    test_sub['Day'] = test_sub['Date'].apply(lambda x: x.weekday_name)\n",
    "    \n",
    "    plt.plot(test_sub['Date'], test_sub['Predictions'], color = 'red', label = 'Predictions')\n",
    "    plt.plot(test_sub['Date'], test[col][:days].values)\n",
    "    plt.title('Forecast Two Weeks Out')\n",
    "    plt.xticks(rotation = 45)\n",
    "    plt.legend(loc = 'best')\n",
    "    plt.show()\n",
    "    \n",
    "    return test_sub\n",
    "\n",
    "\n",
    "def arima_model(col, p,d,q, lag = False, days=14):\n",
    "    ''' Run and arima model. The function prints the summary after training, accuracy metrics and plot of predicted values to actuals. '''\n",
    "    ref = col\n",
    "    print(ref)\n",
    "    # call the ARIMA model\n",
    "    model = ARIMA(train[col].dropna(), (p,d,q))\n",
    "    res_102 = model.fit()\n",
    "    print(res_102.summary())\n",
    "\n",
    "    plt.plot(res_102.resid.values, alpha =0.7)\n",
    "    plt.hlines(0, xmin = 0, xmax = 800, color = 'r')\n",
    "    plt.title(\"ARIMA({},{},{}) \".format(p,d,q)) \n",
    "    plt.show()\n",
    "\n",
    "    results = res_102.fittedvalues.to_frame()\n",
    "\n",
    "    test14 = test[ref][:days]\n",
    "\n",
    "    if lag == False:\n",
    "        accuracy_metrics(train[col], results[0])\n",
    "        # predict the next 14 days \n",
    "        forecast14 = res_102.forecast(days)[0]\n",
    "\n",
    "        forecast_adj = [0 if x < 0 else x for x in forecast14 ]\n",
    "        print( 'TEST SET')\n",
    "        accuracy_metrics(test14, forecast_adj)\n",
    "        result = predictions_plot(test, forecast_adj, col = ref)\n",
    "    else:\n",
    "        \n",
    "        accuracy_metrics(train[col][days:], results[0])\n",
    "        forecast14 = res_102.forecast(days)[0]\n",
    "        \n",
    "        history = [x for x in train[ref]]\n",
    "        pred = []\n",
    "\n",
    "        days = days\n",
    "\n",
    "        for yhat in forecast14:\n",
    "            inverted = inverse_difference(history, yhat, days)\n",
    "            pred.append(inverted)\n",
    "            days += 1\n",
    "\n",
    "        pred \n",
    "\n",
    "        # adjust predictions to not be negative \n",
    "        pred = [0 if x < 0 else x for x in pred ]\n",
    "        test14 = test[ref][:days]\n",
    "        print('TEST SET')\n",
    "        accuracy_metrics(test14, pred)\n",
    "        predictions = predictions_plot(test, pred, col = ref)\n",
    "    "
   ]
  },
  {
   "cell_type": "code",
   "execution_count": null,
   "metadata": {},
   "outputs": [],
   "source": [
    "# Read in a dataframe \n",
    "df = df "
   ]
  },
  {
   "cell_type": "code",
   "execution_count": null,
   "metadata": {},
   "outputs": [],
   "source": [
    "# Azure write table to Workspace\n",
    "#ws = Workspace()\n",
    "#ws.datasets.add_from_dataframe(dataframe = df, data_type_id = 'GenericCSV' , name = 'file_name', description ='table info')"
   ]
  },
  {
   "cell_type": "code",
   "execution_count": null,
   "metadata": {},
   "outputs": [],
   "source": [
    "# Add Holidays to the table \n",
    "cal = calendar()\n",
    "holidays_list = cal.holidays(start = '2017-03-01', end = '2019-07-01', return_name= True)\n",
    "holidays = holidays_list.to_frame(name= 'Holiday Name').rename_axis('Date').reset_index()\n",
    "# holiday name column to the data frame\n",
    "df = pd.merge(df, holidays,how ='left', on='Date')"
   ]
  },
  {
   "cell_type": "code",
   "execution_count": null,
   "metadata": {},
   "outputs": [],
   "source": [
    "# add the day of the week \n",
    "df['Day of the Week'] = df['Date'].apply(lambda x: x.weekday_name)\n",
    "\n",
    "\n",
    "df['Holiday Flag'] = df['Holiday Name'].notnull().astype(int)\n",
    "\n",
    "# weekend flag \n",
    "df['Weekend Flag'] = [1 if x in ['Saturday', 'Sunday'] else 0 for x in df['Day of the Week']]\n",
    "\n",
    "# lagssssss\n",
    "df['lag 1'] = df['target col'].shift()\n",
    "df['lag 7'] = df['target col'].shift(7)\n",
    "df['lag 30'] = df['target col'].shift(30)\n",
    "\n",
    "df['lag 1'] = df['target col'].shift()\n",
    "df['lag 7'] = df['target col'].shift(7)\n",
    "df['lag 30'] = df['target col'].shift(30)\n",
    "\n"
   ]
  },
  {
   "cell_type": "markdown",
   "metadata": {},
   "source": [
    "### Look at the Decomposition of the series. "
   ]
  },
  {
   "cell_type": "code",
   "execution_count": null,
   "metadata": {},
   "outputs": [],
   "source": [
    "decomposition_plot(df['target col'], freq=7)"
   ]
  },
  {
   "cell_type": "code",
   "execution_count": null,
   "metadata": {},
   "outputs": [],
   "source": [
    "decomposition_plot(df['target col'], freq=30)"
   ]
  },
  {
   "cell_type": "markdown",
   "metadata": {},
   "source": [
    "## Plotting the Rolling Mean and Standard Deviation \n",
    "Vizual look for stationarity. "
   ]
  },
  {
   "cell_type": "code",
   "execution_count": null,
   "metadata": {},
   "outputs": [],
   "source": [
    "def plt_rolling(df):\n",
    "    fig, ax = plt.subplots(3, figsize=(12,9))\n",
    "    ax[0].plot(df.index, df['target col'], label ='raw data')\n",
    "    ax[0].plot(df['target col'].rolling(window=7).mean(), label ='rolling mean')\n",
    "    ax[0].plot(df['target col'].rolling(window=7).std(), label ='rolling std')\n",
    "    ax[0].legend()\n",
    "    \n",
    "    ax[1].plot(df.index, df['z_data'], label ='differenced by 7')\n",
    "    ax[1].plot(df['z_data'].rolling(window=7).mean(), label ='rolling mean')\n",
    "    ax[1].plot(df['z_data'].rolling(window=7).std(), label ='rolling std')\n",
    "    ax[1].legend()\n",
    "    \n",
    "    ax[2].plot(df.index, df['zp_data'], label ='raw data')\n",
    "    ax[2].plot(df['zp_data'].rolling(window=7).mean(), label ='7 lag and differenced')\n",
    "    ax[2].plot(df['zp_data'].rolling(window=7).std(), label ='rolling std')\n",
    "    ax[2].legend()\n",
    "    \n",
    "    plt.tight_layout()\n",
    "    fig.autofmt_xdate()\n",
    "    plt.show()\n",
    "\n",
    "plt_rolling(df)"
   ]
  },
  {
   "cell_type": "markdown",
   "metadata": {},
   "source": [
    "## Augmented Dickey-Fuller Test for Stationarity "
   ]
  },
  {
   "cell_type": "code",
   "execution_count": null,
   "metadata": {},
   "outputs": [],
   "source": [
    "print(\"Is the data stationary?\")\n",
    "dftest = adfuller(df['target col'], autolag = 'AIC')\n",
    "print('Test Statistic = {:.3f}'.format(dftest[0]))\n",
    "print(\"P-value = {:.3f}\".format(dftest[1]))\n",
    "print(\"Critical values:\")\n",
    "for k, v in dftest[4].items():\n",
    "    print(\"{}% confidence, {} the data is {} stationary\".format(100-int(k[:-1]), v, \"not\" if v < dftest[0] else \"\" ))\n"
   ]
  },
  {
   "cell_type": "markdown",
   "metadata": {},
   "source": [
    "## Ploting the Autocorrlation and Partial Autocorrlation graphs"
   ]
  },
  {
   "cell_type": "code",
   "execution_count": null,
   "metadata": {},
   "outputs": [],
   "source": [
    "fig, ax = plt.subplots(2, figsize=(8,6))\n",
    "ax[0] = plot_acf(df['target col'].dropna(), ax=ax[0], lags = 20)\n",
    "ax[1] = plot_pacf(df['target col'].dropna(), ax=ax[1], lags = 20)\n",
    "plt.show()"
   ]
  },
  {
   "cell_type": "markdown",
   "metadata": {},
   "source": [
    "### Test/Train split "
   ]
  },
  {
   "cell_type": "code",
   "execution_count": null,
   "metadata": {},
   "outputs": [],
   "source": [
    "train = df[df['Date'] < '2019-05-01']\n",
    "test = df[df['Date']>= '2019-05-01']\n",
    "\n",
    "train = train.set_index('Date')\n",
    "test = test.set_index('Date')"
   ]
  },
  {
   "cell_type": "markdown",
   "metadata": {},
   "source": [
    "# Auto ARIMA"
   ]
  },
  {
   "cell_type": "code",
   "execution_count": null,
   "metadata": {},
   "outputs": [],
   "source": [
    "auto_arma = arma_order_select_ic(train['col'], max_ar = 5, max_ma = 5, ic = ['aic', 'bic'])\n",
    "\n",
    "print(\"AIC order\")\n",
    "print(auto_arma.aic_min_order)\n",
    "print('BIC order')\n",
    "print(auto_arma.bic_min_order)"
   ]
  },
  {
   "cell_type": "code",
   "execution_count": null,
   "metadata": {},
   "outputs": [],
   "source": [
    "model = ARIMA(train['col'], (4,0,4))\n",
    "res_102 = model.fit()\n",
    "print(res_102.summary())\n",
    "\n",
    "plt.plot(res_102.resid.values, alpha =0.7)\n",
    "plt.hlines(0, xmin = 0, xmax = 800, color = 'r')\n",
    "plt.title(\"ARIMA(4,0,4) \") \n",
    "plt.show()"
   ]
  },
  {
   "cell_type": "code",
   "execution_count": null,
   "metadata": {},
   "outputs": [],
   "source": [
    "results = res_102.fittedvalues.to_frame()\n",
    "\n",
    "accuracy_metrics(train['target col'], results[0])\n",
    "\n",
    "test14 = test['target col'][:14]\n",
    "\n",
    "# predict the next 14 days \n",
    "forecast14 = res_102.forecast(14)[0]"
   ]
  },
  {
   "cell_type": "code",
   "execution_count": null,
   "metadata": {},
   "outputs": [],
   "source": [
    "# adjusting forecasts to not be negative\n",
    "forecast_adj = [0 if x < 0 else x for x in forecast14 ]\n",
    "accuracy_metrics(test14, forecast_adj)\n",
    "result = predictions_plot(test, forecast_adj)"
   ]
  },
  {
   "cell_type": "code",
   "execution_count": null,
   "metadata": {},
   "outputs": [],
   "source": [
    "result['diff'] = result['target col'] - result['Predictions']\n",
    "result.head()"
   ]
  },
  {
   "cell_type": "markdown",
   "metadata": {},
   "source": [
    "## Run ARIMA model "
   ]
  },
  {
   "cell_type": "code",
   "execution_count": null,
   "metadata": {},
   "outputs": [],
   "source": [
    "auto_arma = arma_order_select_ic(train['target col'], max_ar = 5, max_ma = 5, ic = ['aic', 'bic'])\n",
    "\n",
    "print(\"AIC order\")\n",
    "print(auto_arma.aic_min_order)\n",
    "print('BIC order')\n",
    "print(auto_arma.bic_min_order)"
   ]
  },
  {
   "cell_type": "code",
   "execution_count": null,
   "metadata": {},
   "outputs": [],
   "source": [
    "arima_model('target col', 4,0,4, False)"
   ]
  },
  {
   "cell_type": "markdown",
   "metadata": {},
   "source": [
    "## Holidays as exogenous variable "
   ]
  },
  {
   "cell_type": "code",
   "execution_count": null,
   "metadata": {},
   "outputs": [],
   "source": [
    "train = df[df['Date'] < '2019-05-01']\n",
    "test = df[df['Date']>= '2019-05-01']\n",
    "\n",
    "train = train.set_index('Date')\n",
    "test = test.set_index('Date')"
   ]
  },
  {
   "cell_type": "code",
   "execution_count": null,
   "metadata": {},
   "outputs": [],
   "source": [
    "train_holiday = train['Holiday Flag'].values\n",
    "test_holiday = test['Holiday Flag'].values "
   ]
  },
  {
   "cell_type": "code",
   "execution_count": null,
   "metadata": {},
   "outputs": [],
   "source": [
    "model = ARIMA(train['target col'], (5,0,4), exog = train_holiday)\n",
    "res_102 = model.fit()\n",
    "print(res_102.summary())\n",
    "\n",
    "plt.plot(res_102.resid.values, alpha =0.7)\n",
    "plt.hlines(0, xmin = 0, xmax = 800, color = 'r')\n",
    "plt.title(\"ARIMA(5,0,4) \") \n",
    "plt.show()"
   ]
  },
  {
   "cell_type": "code",
   "execution_count": null,
   "metadata": {},
   "outputs": [],
   "source": [
    "results = res_102.fittedvalues.to_frame()\n",
    "\n",
    "accuracy_metrics(train['target col'], results[0])\n",
    "\n",
    "test14 = test['target col'][:14]\n",
    "\n",
    "test_holidays = test['Holiday Flag'][:14]\n",
    "\n",
    "\n",
    "forecast14 = res_102.forecast(14, exog = test_holidays)[0]"
   ]
  },
  {
   "cell_type": "code",
   "execution_count": null,
   "metadata": {},
   "outputs": [],
   "source": [
    "forecast_adj = [0 if x < 0 else x for x in forecast14 ]\n",
    "\n",
    "accuracy_metrics(test14, forecast_adj)\n",
    "result = predictions_plot(test, forecast_adj, col= 'target col')"
   ]
  },
  {
   "cell_type": "code",
   "execution_count": null,
   "metadata": {},
   "outputs": [],
   "source": [
    "from platform import python_version \n",
    "python_version()"
   ]
  },
  {
   "cell_type": "code",
   "execution_count": null,
   "metadata": {},
   "outputs": [],
   "source": [
    "import pandas as pd\n",
    "pd.__version__"
   ]
  },
  {
   "cell_type": "code",
   "execution_count": null,
   "metadata": {},
   "outputs": [],
   "source": []
  }
 ],
 "metadata": {
  "kernelspec": {
   "display_name": "Python 3",
   "language": "python",
   "name": "python3"
  },
  "language_info": {
   "codemirror_mode": {
    "name": "ipython",
    "version": 3
   },
   "file_extension": ".py",
   "mimetype": "text/x-python",
   "name": "python",
   "nbconvert_exporter": "python",
   "pygments_lexer": "ipython3",
   "version": "3.7.0"
  }
 },
 "nbformat": 4,
 "nbformat_minor": 1
}
